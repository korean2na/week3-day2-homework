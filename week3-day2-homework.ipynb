{
 "cells": [
  {
   "cell_type": "markdown",
   "metadata": {},
   "source": [
    "# Regular Expressions"
   ]
  },
  {
   "cell_type": "markdown",
   "metadata": {},
   "source": [
    "# Tasks today:\n",
    "1) <b>Importing</b> <br>\n",
    "2) <b>Using Regular Expressions</b> <br>\n",
    " &nbsp;&nbsp;&nbsp;&nbsp; a) re.compile() <br>\n",
    " &nbsp;&nbsp;&nbsp;&nbsp; b) re.match() <br>\n",
    " &nbsp;&nbsp;&nbsp;&nbsp; c) re.findall() <br>\n",
    " &nbsp;&nbsp;&nbsp;&nbsp; d) re.search() <br>\n",
    "3) <b>Sets</b> <br>\n",
    " &nbsp;&nbsp;&nbsp;&nbsp; a) Integer Ranges <br>\n",
    " &nbsp;&nbsp;&nbsp;&nbsp; b) Character Ranges <br>\n",
    "4) <b>Counting Occurences</b> <br>\n",
    " &nbsp;&nbsp;&nbsp;&nbsp; a) {x} <br>\n",
    " &nbsp;&nbsp;&nbsp;&nbsp; b) {, x} <br>\n",
    " &nbsp;&nbsp;&nbsp;&nbsp; c) {?} <br>\n",
    " &nbsp;&nbsp;&nbsp;&nbsp; d) {*} <br>\n",
    " &nbsp;&nbsp;&nbsp;&nbsp; e) {+} <br>\n",
    "5) <b>In-Class Exercise #1</b> <br>\n",
    "6) <b>Escaping Characters</b> <br>\n",
    "7) <b>Grouping</b> <br>\n",
    "8) <b>In-Class Exercise #2</b> <br>\n",
    "9) <b>Opening a File</b> <br>\n",
    " &nbsp;&nbsp;&nbsp;&nbsp; a) open() <br>\n",
    " &nbsp;&nbsp;&nbsp;&nbsp; b) with open() <br>\n",
    " &nbsp;&nbsp;&nbsp;&nbsp; c) re.match() <br>\n",
    " &nbsp;&nbsp;&nbsp;&nbsp; d) re.search() <br>\n",
    " &nbsp;&nbsp;&nbsp;&nbsp; e) Store the String in a Variable <br>\n",
    "10) <b>Regex Project</b> <br>"
   ]
  },
  {
   "cell_type": "markdown",
   "metadata": {},
   "source": [
    "### Importing <br>\n",
    "<p>Regular Expressions are universal throughout most programming languages... They are generally imported through the module 're'.</p>"
   ]
  },
  {
   "cell_type": "code",
   "execution_count": null,
   "metadata": {},
   "outputs": [],
   "source": [
    "# import re\n",
    "import re"
   ]
  },
  {
   "cell_type": "markdown",
   "metadata": {},
   "source": [
    "### Using Regular Expressions <br>\n",
    "<p>Regular expressions give us the ability to search for patterns within text, strings, files, etc. They serve several uses, such as; security measures, searching, filtering, pattern recognition, and more...</p>"
   ]
  },
  {
   "cell_type": "markdown",
   "metadata": {},
   "source": [
    "##### re.compile()"
   ]
  },
  {
   "cell_type": "code",
   "execution_count": null,
   "metadata": {},
   "outputs": [],
   "source": [
    "# using compile, pre determines the string to be used in regular expression methods\n",
    "\n",
    "pattern = re.compile('abcd')"
   ]
  },
  {
   "cell_type": "markdown",
   "metadata": {},
   "source": [
    "##### re.match()"
   ]
  },
  {
   "cell_type": "code",
   "execution_count": null,
   "metadata": {},
   "outputs": [],
   "source": [
    "match = pattern.match('abcd123')\n",
    "print(match)\n",
    "\n",
    "# Accessing the span of the match\n",
    "print(match.span())"
   ]
  },
  {
   "cell_type": "markdown",
   "metadata": {},
   "source": [
    "##### re.findall()"
   ]
  },
  {
   "cell_type": "code",
   "execution_count": null,
   "metadata": {},
   "outputs": [],
   "source": [
    "finders = pattern.findall('123abcd abcd123 abcd abcabc acb')\n",
    "print(finders)\n",
    "\n",
    "help(re.findall)"
   ]
  },
  {
   "cell_type": "markdown",
   "metadata": {},
   "source": [
    "##### re.search()"
   ]
  },
  {
   "cell_type": "code",
   "execution_count": null,
   "metadata": {},
   "outputs": [],
   "source": [
    "random_str = '123 123 234 abcd abc'\n",
    "search = pattern.search(random_str)\n",
    "print(search)\n",
    "print(search.span())\n",
    "print(isinstance(search.span(), tuple))"
   ]
  },
  {
   "cell_type": "markdown",
   "metadata": {},
   "source": [
    "### Sets <br>\n",
    "<p>The following cells will allow you to use regular expressions to search for certain values within a range such as numbers 1 through 4.</p>"
   ]
  },
  {
   "cell_type": "markdown",
   "metadata": {},
   "source": [
    "##### [a-z] or [A-Z] - any lowercase/uppercase letters from a to z<br/>[^2] - anything that's not 2"
   ]
  },
  {
   "cell_type": "markdown",
   "metadata": {},
   "source": [
    "##### Integer Ranges"
   ]
  },
  {
   "cell_type": "code",
   "execution_count": null,
   "metadata": {},
   "outputs": [],
   "source": [
    "pattern_int = re.compile('[0-7][7-9][0-3]')\n",
    "random_number = pattern_int.search('67383')\n",
    "print(random_number)\n",
    "span = random_number.span()\n",
    "print(type(span))\n",
    "\n",
    "print(random_number[span[0]])\n",
    "\n",
    "find_randoms = pattern_int.findall('673783')\n",
    "print(find_randoms)\n"
   ]
  },
  {
   "cell_type": "markdown",
   "metadata": {},
   "source": [
    "##### Character Ranges"
   ]
  },
  {
   "cell_type": "code",
   "execution_count": null,
   "metadata": {},
   "outputs": [],
   "source": [
    "char_pattern = re.compile('[A-L][a-z]')\n",
    "\n",
    "found = char_pattern.findall(\"Hello There Mr. Anderson. We've Been Waiting For You.\")\n",
    "print(found)"
   ]
  },
  {
   "cell_type": "markdown",
   "metadata": {},
   "source": [
    "### Counting Occurences"
   ]
  },
  {
   "cell_type": "markdown",
   "metadata": {},
   "source": [
    "##### {x} - something that occurs {num_of_times}"
   ]
  },
  {
   "cell_type": "code",
   "execution_count": null,
   "metadata": {},
   "outputs": [],
   "source": [
    "char_pattern_count = re.compile('[A-Z][a-z][0-3]{2}')\n",
    "\n",
    "found_count = char_pattern_count.findall('Hello Mr. An33derson')\n",
    "\n",
    "print(found_count)"
   ]
  },
  {
   "cell_type": "markdown",
   "metadata": {},
   "source": [
    "##### {x, x} - something that occurs between x and x times"
   ]
  },
  {
   "cell_type": "code",
   "execution_count": null,
   "metadata": {},
   "outputs": [],
   "source": [
    "random_string = 'This is an example of a regular expression trying to find one m, more than one mmm, or five mmmmmms'\n",
    "\n",
    "random_pattern = re.compile('m{1,5}')\n",
    "\n",
    "found_ms = random_pattern.findall(random_string)\n",
    "print(found_ms)"
   ]
  },
  {
   "cell_type": "markdown",
   "metadata": {},
   "source": [
    "##### ? - something that occurs 0 or 1 time"
   ]
  },
  {
   "cell_type": "code",
   "execution_count": null,
   "metadata": {},
   "outputs": [],
   "source": [
    "pattern = re.compile('Mrs?')\n",
    "\n",
    "found_pat = pattern.findall('Hello M there Mr. Anderson, How is Mrs. Anderson and Ms. Anderson')\n",
    "\n",
    "print(found_pat)"
   ]
  },
  {
   "cell_type": "markdown",
   "metadata": {},
   "source": [
    "##### * - something that occurs at least 0 times"
   ]
  },
  {
   "cell_type": "code",
   "execution_count": null,
   "metadata": {},
   "outputs": [],
   "source": [
    "m_string = 'MMMs name is Mr. Smith. This is Msssssss'\n",
    "\n",
    "pattern_m = re.compile('M*s')\n",
    "\n",
    "found_ms = pattern_m.findall(m_string)\n",
    "print(found_ms)"
   ]
  },
  {
   "cell_type": "markdown",
   "metadata": {},
   "source": [
    "##### + - something that occurs at least once"
   ]
  },
  {
   "cell_type": "code",
   "execution_count": null,
   "metadata": {},
   "outputs": [],
   "source": [
    "pattern_again = re.compile('M+s')\n",
    "\n",
    "found_patt = pattern_again.findall(m_string)\n",
    "print(found_patt)"
   ]
  },
  {
   "cell_type": "markdown",
   "metadata": {},
   "source": [
    "##### In-class exercise 1: \n",
    "\n",
    "Use a regular expression to find every number in the given string"
   ]
  },
  {
   "cell_type": "code",
   "execution_count": null,
   "metadata": {},
   "outputs": [],
   "source": [
    "random_str = 'This string has 10909090 numbers, but it is only 1 string. I hope you solve this 2day.'\n",
    "\n",
    "nums = re.compile('[0-9]')\n",
    "found_nums = nums.findall(random_str)\n",
    "print(found_nums)"
   ]
  },
  {
   "cell_type": "markdown",
   "metadata": {},
   "source": [
    "### Escaping Characters"
   ]
  },
  {
   "cell_type": "markdown",
   "metadata": {},
   "source": [
    "##### \\w - look for any Unicode character<br/>\\W - look for anything that isnt a Unicode character\n",
    "\n",
    "[History on Unicode](http://unicode.org/standard/WhatIsUnicode.html)\n",
    "\n",
    "[More on Unicode Characters](https://en.wikipedia.org/wiki/List_of_Unicode_characters)"
   ]
  },
  {
   "cell_type": "code",
   "execution_count": null,
   "metadata": {},
   "outputs": [],
   "source": [
    "pattern = re.compile('\\w')\n",
    "pattern2 = re.compile('\\W')\n",
    "\n",
    "found1 = pattern.findall('This is a sentence, with an exclamation mark!')\n",
    "print(found1)\n",
    "\n",
    "found2 = pattern2.findall('This is a sentence, with an exclamation mark!')\n",
    "print(found2)"
   ]
  },
  {
   "cell_type": "markdown",
   "metadata": {},
   "source": [
    "##### \\d - look for any digit 0-9<br/>\\D - look for anything that isnt a digit"
   ]
  },
  {
   "cell_type": "code",
   "execution_count": null,
   "metadata": {},
   "outputs": [],
   "source": [
    "pattern_nums = re.compile('\\d{1,2}[a-z]{2}')\n",
    "pattern_nonums = re.compile('\\D+')\n",
    "\n",
    "found_date = pattern_nums.findall('Today is the 15th, 14 days after the 1st.')\n",
    "print(found_date)\n",
    "\n",
    "found_date = pattern_nonums.findall('Today is the 15th, 14 days after the 1st.')\n",
    "print(found_date)"
   ]
  },
  {
   "cell_type": "markdown",
   "metadata": {},
   "source": [
    "##### \\s - look for any white space<br/>\\S - look for anything that isnt whitespace"
   ]
  },
  {
   "cell_type": "code",
   "execution_count": null,
   "metadata": {},
   "outputs": [],
   "source": [
    "pattern_nospace = re.compile('\\S+')\n",
    "pattern_spaces = re.compile('\\s+')\n",
    "\n",
    "found_dark = pattern_nospace.findall('Are you afraid of the dark?')\n",
    "print(found_dark)\n",
    "\n",
    "found_dark = pattern_spaces.findall('Are you afraid of the      dark?')\n",
    "print(found_dark)"
   ]
  },
  {
   "cell_type": "markdown",
   "metadata": {},
   "source": [
    "##### \\b - look for boundaries or edges of a word<br/>\\B - look for anything that isnt a boundary"
   ]
  },
  {
   "cell_type": "code",
   "execution_count": null,
   "metadata": {},
   "outputs": [],
   "source": [
    "pattern_bounds = re.compile(r'\\bTheCodingTemple\\b')\n",
    "pattern_notbounds = re.compile(r'\\BTheCodingTemple\\B')\n",
    "\n",
    "found_bound = pattern_bounds.findall('TheCodingTemple')\n",
    "print(found_bound)\n",
    "\n",
    "found_bound = pattern_notbounds.findall('TheCodingTemple')\n",
    "print(found_bound)"
   ]
  },
  {
   "cell_type": "markdown",
   "metadata": {},
   "source": [
    "### Grouping"
   ]
  },
  {
   "cell_type": "code",
   "execution_count": null,
   "metadata": {},
   "outputs": [],
   "source": [
    "my_name_string = \"Max Smith, Aaron Rodgers, Sam Darnold, LeBron James, Michael Jordan, Patrick Surtain II, Justin Simmons, Pat McAfee\"\n",
    "\n",
    "# Group of names regex compoiler\n",
    "# NOT THE SAME pattern_name = re.compile('([A-Z][a-z][A-Z][a-z]+) ([A-Z][a-z][A-Z]+)')\n",
    "# IS THE SAME pattern_name = re.compile('([A-Z][a-zA-Za-z]+) ([A-Z][a-zA-Z]+)')\n",
    "pattern_name = re.compile('([A-Za-z]+) ([a-zA-Z]+)')\n",
    "\n",
    "found_names = pattern_name.findall(my_name_string)\n",
    "print(found_names)\n",
    "\n",
    "# print(my_name_string.split(','))\n",
    "for name in my_name_string.split(','):\n",
    "    match = pattern_name.search(name)\n",
    "    if match:\n",
    "        print(match.groups(2))\n",
    "    else:\n",
    "        print('Not a name')"
   ]
  },
  {
   "cell_type": "markdown",
   "metadata": {},
   "source": [
    "##### In-class Exercise 2:\n",
    "\n",
    "Write a function using regular expressions to find the domain name in the given email addresses (and return None for the invalid email addresses)<br><b>HINT: Use '|' for either or</b>"
   ]
  },
  {
   "cell_type": "code",
   "execution_count": null,
   "metadata": {},
   "outputs": [],
   "source": [
    "my_emails = [\"jordanw@codingtemple.orgcom\", \"pocohontas1776@gmail.com\", \"helloworld@aol..com\",\n",
    "             \"yourfavoriteband@g6.org\", \"@codingtemple.com\"]\n",
    "\n",
    "# my_emails = \"jordanw@codingtemple.orgcom, pocohontas1776@gmail.com, helloworld@aol..com, yourfavoriteband@g6.org, @codingtemple.com\"\n",
    "\n",
    "\n",
    "# You can also use the $ at the end of your compile expression -- this stops the search\n",
    "\n",
    "#.com OR .org => com|org\n",
    "\n",
    "#Expected output:\n",
    "#None\n",
    "#pocohontas1776@gmail.com\n",
    "#None\n",
    "#yourfavoriteband@g6.org\n",
    "#None\n",
    "\n",
    "# \n",
    "\n",
    "# email_pattern = re.compile('([a-zA-Z0-9]+)@([a-zA-Z0-9]+).(com|org)$')\n",
    "\n",
    "# emails = email_pattern.findall(my_emails)\n",
    "# print(emails)\n",
    "\n",
    "def check_emails(email):\n",
    "    pattern = re.compile('([a-zA-Z0-9]+)@([a-zA-Z0-9]+).(com|org)$')\n",
    "\n",
    "    if pattern.match(email):\n",
    "        return email\n",
    "    else:\n",
    "        return None\n",
    "\n",
    "for email in my_emails:\n",
    "    print(check_emails(email))\n",
    "\n",
    "\n",
    "# acceptable_emails = re.compile('([a-zA-Z0-9]+)@([a-zA-Z0-9]+).(com|org)$')\n",
    "\n",
    "\n",
    "\n"
   ]
  },
  {
   "cell_type": "markdown",
   "metadata": {},
   "source": [
    "### Opening a File <br>\n",
    "<p>Python gives us a couple ways to import files, below are the two used most often.</p>"
   ]
  },
  {
   "cell_type": "markdown",
   "metadata": {},
   "source": [
    "##### open()"
   ]
  },
  {
   "cell_type": "code",
   "execution_count": null,
   "metadata": {},
   "outputs": [],
   "source": [
    "f = open('./names.txt')\n",
    "\n",
    "data = f.read()\n",
    "print(data)"
   ]
  },
  {
   "cell_type": "code",
   "execution_count": null,
   "metadata": {},
   "outputs": [],
   "source": [
    "f = open('./names.txt')\n",
    "\n",
    "data = f.readlines()\n",
    "print(data)"
   ]
  },
  {
   "cell_type": "markdown",
   "metadata": {},
   "source": [
    "##### with open()"
   ]
  },
  {
   "cell_type": "code",
   "execution_count": null,
   "metadata": {},
   "outputs": [],
   "source": [
    "with open('./names.txt') as f:\n",
    "    data = f.read()\n",
    "    print(data)"
   ]
  },
  {
   "cell_type": "code",
   "execution_count": null,
   "metadata": {},
   "outputs": [],
   "source": [
    "with open('./names.txt') as f:\n",
    "    data = f.readlines()\n",
    "    print(data)"
   ]
  },
  {
   "cell_type": "markdown",
   "metadata": {},
   "source": [
    "##### re.match()"
   ]
  },
  {
   "cell_type": "code",
   "execution_count": null,
   "metadata": {},
   "outputs": [],
   "source": [
    "print(re.match(r'Hawkins, Derek', data))"
   ]
  },
  {
   "cell_type": "markdown",
   "metadata": {},
   "source": [
    "##### re.search()"
   ]
  },
  {
   "cell_type": "code",
   "execution_count": null,
   "metadata": {},
   "outputs": [],
   "source": [
    "print(re.search(r'ripalp@codingtemple.com', data))"
   ]
  },
  {
   "cell_type": "markdown",
   "metadata": {},
   "source": [
    "##### Store the String to a Variable"
   ]
  },
  {
   "cell_type": "code",
   "execution_count": null,
   "metadata": {},
   "outputs": [],
   "source": [
    "answer = input('\\nWhat would you like to search for?\\n')\n",
    "found = re.findall(answer, data)\n",
    "\n",
    "if found:\n",
    "    print(f'I have found your data: {found}')\n",
    "else:\n",
    "    print('No match found.', Found)"
   ]
  },
  {
   "cell_type": "markdown",
   "metadata": {},
   "source": [
    "### In-Class Exercise #3 <br>\n",
    "<p>Print each persons name and twitter handle, using groups, should look like:</p>\n",
    "<p>==============<br>\n",
    "   Full Name / Twitter<br>\n",
    "   ==============</p>\n",
    "Derek Hawkins / @derekhawkins\n",
    "\n",
    " Erik Sven-Osterberg / @sverik\n",
    "\n",
    " Ryan Butz / @ryanbutz\n",
    "\n",
    " Example Exampleson / @example\n",
    "\n",
    " Ripal Pael / @ripalp\n",
    "\n",
    " Darth Vader / @darthvader"
   ]
  },
  {
   "cell_type": "code",
   "execution_count": 104,
   "metadata": {
    "scrolled": true
   },
   "outputs": [
    {
     "name": "stdout",
     "output_type": "stream",
     "text": [
      "====================\n",
      "Full Name / Twitter\n",
      "====================\n",
      "\n",
      "Derek Hawkins / @derekhawkins\n",
      "\n",
      "Sven-Erik Osterberg / @sverik\n",
      "\n",
      "Ryan Butz / @ryanbutz\n",
      "\n",
      "Example Exampleson / @example\n",
      "\n",
      "Ripal Pael / @ripalp\n",
      "\n",
      "Darth Vader / @darthvader\n"
     ]
    }
   ],
   "source": [
    "import re\n",
    "\n",
    "f = open('./names.txt')\n",
    "data = f.readlines()\n",
    "\n",
    "def find_twits(data):\n",
    "    #                           LAST                FIRST(A)          FIRST(B)          TWITTER    \n",
    "    #  old version             Group 1              Group 2           Group 3           Group 4\n",
    "    # pattern = re.compile(r'([A-Z][a-zA-Z]+), ([A-Z][a-zA-Z]+-)*([A-Z][a-zA-Z]+).+(@[A-Za-z\\d]+$)')\n",
    "    pattern = re.compile(r'([A-Z][a-zA-Z]+), ([A-Z][a-zA-Z]+-)*([A-Z][a-zA-Z]+).+(@[\\w]+$)')\n",
    "\n",
    "    print('='*20)\n",
    "    print('Full Name / Twitter')\n",
    "    print('='*20)\n",
    "\n",
    "    # old version\n",
    "    # for r in data:\n",
    "    #     if pattern.search(r):\n",
    "    #         result = pattern.search(r)\n",
    "    #         if result.group(2) == None:\n",
    "    #             print(f'\\n{result.group(3)} {result.group(1)} / {result.group(4)}')\n",
    "    #         else:\n",
    "    #             print(f'\\n{result.group(2)}{result.group(3)} {result.group(1)} / {result.group(4)}')\n",
    "\n",
    "    for r in data:\n",
    "        result = pattern.search(r)\n",
    "        if result and result.group(2) == None:\n",
    "            print(f'\\n{result.group(3)} {result.group(1)} / {result.group(4)}')\n",
    "        elif result and result.group(2) != None:\n",
    "            print(f'\\n{result.group(2)}{result.group(3)} {result.group(1)} / {result.group(4)}')\n",
    "\n",
    "\n",
    "find_twits(data)"
   ]
  },
  {
   "cell_type": "markdown",
   "metadata": {},
   "source": [
    "### Regex project\n",
    "\n",
    "Use python to read the file regex_test.txt and print the last name on each line using regular expressions and groups (return None for names with no first and last name, or names that aren't properly capitalized)\n",
    "##### Hint: use with open() and readlines()"
   ]
  },
  {
   "cell_type": "code",
   "execution_count": null,
   "metadata": {},
   "outputs": [],
   "source": [
    "\"\"\"\n",
    "Expected Output\n",
    "Abraham Lincoln\n",
    "Andrew P Garfield\n",
    "Connor Milliken\n",
    "Jordan Alexander Williams\n",
    "None\n",
    "None\n",
    "\"\"\""
   ]
  },
  {
   "cell_type": "code",
   "execution_count": 106,
   "metadata": {},
   "outputs": [
    {
     "name": "stdout",
     "output_type": "stream",
     "text": [
      "Abraham Lincoln\n",
      "Andrew P. Garfield\n",
      "Connor Milliken\n",
      "Jordan Alexander Williams\n",
      "None\n",
      "None\n"
     ]
    }
   ],
   "source": [
    "import re\n",
    "\n",
    "f = open('./regex_test.txt')\n",
    "data = f.readlines()\n",
    "\n",
    "def full_names(data):\n",
    "    first_last = re.compile('([A-Z][a-zA-Z]+) ([A-Z][a-zA-Z]+)')\n",
    "    first_mid_last = re.compile('([A-Z][a-zA-Z]+) ([A-Z]*[a-zA-Z]+) ([A-Z][a-zA-Z]+)')\n",
    "    \n",
    "    for line in data:\n",
    "        names = first_last.search(line)\n",
    "        names_mid = first_mid_last.search(line)\n",
    "\n",
    "        # if name has a middle initial\n",
    "        if first_mid_last.search(line) and len(names_mid.group(2)) == 1:\n",
    "            print(f'{names_mid.group(1)} {names_mid.group(2)}. {names_mid.group(3)}')\n",
    "\n",
    "        # if name has a full middle name\n",
    "        elif first_mid_last.search(line):\n",
    "            print(f'{names_mid.group(1)} {names_mid.group(2)} {names_mid.group(3)}')\n",
    "\n",
    "        # if name only has first and last\n",
    "        elif first_last.search(line):\n",
    "            print(f'{names.group(1)} {names.group(2)}')\n",
    "\n",
    "        else:\n",
    "            print(None)\n",
    "\n",
    "\n",
    "full_names(data)"
   ]
  }
 ],
 "metadata": {
  "kernelspec": {
   "display_name": "Python 3.10.8 64-bit",
   "language": "python",
   "name": "python3"
  },
  "language_info": {
   "codemirror_mode": {
    "name": "ipython",
    "version": 3
   },
   "file_extension": ".py",
   "mimetype": "text/x-python",
   "name": "python",
   "nbconvert_exporter": "python",
   "pygments_lexer": "ipython3",
   "version": "3.10.8"
  },
  "vscode": {
   "interpreter": {
    "hash": "26de051ba29f2982a8de78e945f0abaf191376122a1563185a90213a26c5da77"
   }
  }
 },
 "nbformat": 4,
 "nbformat_minor": 2
}
